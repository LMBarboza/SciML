{
  "nbformat": 4,
  "nbformat_minor": 0,
  "metadata": {
    "colab": {
      "provenance": []
    },
    "kernelspec": {
      "name": "python3",
      "display_name": "Python 3"
    },
    "language_info": {
      "name": "python"
    }
  },
  "cells": [
    {
      "cell_type": "code",
      "source": [
        "!pip install pysindy"
      ],
      "metadata": {
        "id": "A96exbnmHwtx",
        "colab": {
          "base_uri": "https://localhost:8080/"
        },
        "outputId": "ba2887fb-2858-472e-98eb-25b302346b5e"
      },
      "execution_count": null,
      "outputs": [
        {
          "output_type": "stream",
          "name": "stdout",
          "text": [
            "Installing collected packages: derivative, pysindy\n",
            "Successfully installed derivative-0.6.0 pysindy-1.7.5\n"
          ]
        }
      ]
    },
    {
      "cell_type": "code",
      "execution_count": null,
      "metadata": {
        "id": "5250K04bUFcE"
      },
      "outputs": [],
      "source": [
        "import numpy as np\n",
        "from scipy.integrate import solve_ivp\n",
        "import matplotlib.pyplot as plt\n",
        "import seaborn as sns\n",
        "import pysindy as ps"
      ]
    },
    {
      "cell_type": "code",
      "source": [
        "def navier_stokes(t, z, a1, a2, b, c, Re, d, e):\n",
        "    x1, x2, x3, x4, x5 = z\n",
        "    return np.array([\n",
        "        -2*x1 + a1*x2*x3 + a2*x4*x5,\n",
        "        -9*x2 + b*x1*x3,\n",
        "        -5*x3 - c*x1*x2 + Re,\n",
        "        -5*x4 - d*x1*x5,\n",
        "        -x5 - e*x1*x5\n",
        "    ])"
      ],
      "metadata": {
        "id": "ypYj8ZbfOCt6"
      },
      "execution_count": null,
      "outputs": []
    },
    {
      "cell_type": "code",
      "source": [
        "t = np.linspace(0, 3, 5000)\n",
        "sol = solve_ivp(navier_stokes, [0, 5], [1, 1, 1, 1, 1], t_eval = t, args = (15, 8, 2.3, 1, 1.8, 0, 3))"
      ],
      "metadata": {
        "id": "UUTyJhbDRkFX"
      },
      "execution_count": null,
      "outputs": []
    },
    {
      "cell_type": "code",
      "source": [
        "x_train = sol.y.T\n",
        "x_dot_train = ps.FiniteDifference()._differentiate(x_train, t)"
      ],
      "metadata": {
        "id": "QcMsPeJWn3vV"
      },
      "execution_count": null,
      "outputs": []
    },
    {
      "cell_type": "code",
      "source": [
        "dados = [(x, x_dot) for x, x_dot in zip(x_train, x_dot_train)]"
      ],
      "metadata": {
        "id": "KjVynvpFrYMd"
      },
      "execution_count": null,
      "outputs": []
    },
    {
      "cell_type": "code",
      "source": [
        "plt.plot(t, x_train)"
      ],
      "metadata": {
        "colab": {
          "base_uri": "https://localhost:8080/",
          "height": 517
        },
        "id": "ey08j--JXsyz",
        "outputId": "50ab9cc4-373a-4a76-f5d6-a9cbcbe6b530"
      },
      "execution_count": null,
      "outputs": [
        {
          "output_type": "execute_result",
          "data": {
            "text/plain": [
              "[<matplotlib.lines.Line2D at 0x7f1f3b6eca90>,\n",
              " <matplotlib.lines.Line2D at 0x7f1f3b6ecaf0>,\n",
              " <matplotlib.lines.Line2D at 0x7f1f3b6ecb20>,\n",
              " <matplotlib.lines.Line2D at 0x7f1f3b6ecc10>,\n",
              " <matplotlib.lines.Line2D at 0x7f1f3b6ecd00>]"
            ]
          },
          "metadata": {},
          "execution_count": 62
        },
        {
          "output_type": "display_data",
          "data": {
            "text/plain": [
              "<Figure size 640x480 with 1 Axes>"
            ],
            "image/png": "[encoded data removed]"
          },
          "metadata": {}
        }
      ]
    },
    {
      "cell_type": "code",
      "source": [
        "import torch\n",
        "import torch.nn as nn\n",
        "from torch.utils.data import Dataset, DataLoader"
      ],
      "metadata": {
        "id": "O-rYdbTz37Pm"
      },
      "execution_count": null,
      "outputs": []
    },
    {
      "cell_type": "code",
      "source": [
        "class AutoencoderSINDy(nn.Module):\n",
        "    def __init__(self, input_size,  latent_size) -> None:\n",
        "        super().__init__()\n",
        "        self.sindy_weights = nn.Linear(25, 5).to(torch.float64)\n",
        "        self.encoder = nn.Sequential(\n",
        "            nn.Linear(input_size, 10).to(torch.float64),\n",
        "            nn.ReLU(),\n",
        "            nn.Linear(10,  5).to(torch.float64),\n",
        "            nn.ReLU(),\n",
        "            nn.Linear(5, 5).to(torch.float64),\n",
        "            nn.ReLU()\n",
        "        )\n",
        "        self.decoder = nn.Sequential(\n",
        "            nn.Linear(5, 5).to(torch.float64),\n",
        "            nn.ReLU(),\n",
        "            nn.Linear(5, input_size).to(torch.float64),\n",
        "            nn.ReLU()\n",
        "        )\n",
        "    def forward(self, x) -> tuple:\n",
        "        x.requires_grad_(True)\n",
        "        z = self.encoder(x)\n",
        "        z.requires_grad_(True)\n",
        "        sindy_library = torch.cat([torch.sin(z), torch.cos(z), torch.pow(z, 1), torch.pow(z, 2), torch.pow(z, 3)], dim = 1)\n",
        "        dz_sindy = self.sindy_weights(sindy_library)\n",
        "        x_decoder = self.decoder(z)\n",
        "        dz_dx = torch.autograd.grad(outputs=z, inputs=x, grad_outputs=torch.ones_like(z), create_graph=True)[0]\n",
        "        dx_decoder_dx = torch.autograd.grad(outputs=x_decoder, inputs=z, grad_outputs=torch.ones_like(x_decoder), create_graph=True)[0]\n",
        "\n",
        "        return z, dz_sindy, x_decoder, dz_dx, dx_decoder_dx, self.sindy_weights.weight\n",
        "\n",
        "\n",
        "class Dados(Dataset):\n",
        "    def __init__(self, data) -> None:\n",
        "        self.data: list[tuple[list, list]] = data\n",
        "    def __len__(self) -> int:\n",
        "        return len(self.data);\n",
        "\n",
        "    def __getitem__(self, idx: int) -> tuple[list, list]:\n",
        "        return self.data[idx];"
      ],
      "metadata": {
        "id": "VLjOqPvIAv0J"
      },
      "execution_count": null,
      "outputs": []
    },
    {
      "cell_type": "code",
      "source": [
        "train_dataset = Dados(dados)\n",
        "train_loader = DataLoader(train_dataset, batch_size = 32, shuffle = True)"
      ],
      "metadata": {
        "id": "z_eO0iq8rUIu"
      },
      "execution_count": null,
      "outputs": []
    },
    {
      "cell_type": "code",
      "source": [
        "def sindy_va_loss(data_set, z, dz_sindy, output, dz_dx, dx_decoder_dx, sindy_weights, l1, l2, l3) -> float:\n",
        "    x, x_dot = data_set\n",
        "    loss = nn.MSELoss()\n",
        "    return loss(output,  x) + l2*torch.norm(sindy_weights, p = 1) + l3*loss(x_dot, dx_decoder_dx*dz_sindy) + l1*loss(x_dot*dz_dx, dz_sindy)"
      ],
      "metadata": {
        "id": "nzYATy-2J0qj"
      },
      "execution_count": null,
      "outputs": []
    },
    {
      "cell_type": "code",
      "source": [
        "def train(data, model, optimizer, sindy_va_loss):\n",
        "    x, x_dot = data\n",
        "    model.train()\n",
        "    optimizer.zero_grad()\n",
        "    z, dz_sindy, output, dz_dx, dx_decoder_dx, sindy_weights = model(x)\n",
        "    loss = sindy_va_loss(data, z, dz_sindy, output,  dz_dx, dx_decoder_dx, sindy_weights, 0.5, 0.2, 0.3)\n",
        "    loss.backward()\n",
        "    optimizer.step()\n",
        "    return loss\n",
        "\n",
        "\n",
        "@torch.no_grad()\n",
        "def validate_batch(data, model, sindy_va_loss):\n",
        "    model.eval()\n",
        "    z, dz_sindy, output, grad_encoder, grad_decoder = model(x)\n",
        "    loss = sindy_va_loss(data, z, dz_sindy, output, 0.5, 0.2, 0.3)\n",
        "    return loss\n"
      ],
      "metadata": {
        "id": "FfPobeodIH1_"
      },
      "execution_count": null,
      "outputs": []
    },
    {
      "cell_type": "code",
      "source": [
        "model = AutoencoderSINDy(5, 3)\n",
        "optimizer = torch.optim.Adam(model.parameters(), lr=1e-3)\n",
        "n_epochs = 150\n",
        "for epoch in range(n_epochs):\n",
        "    N = len(train_loader)\n",
        "    for batch_idx, data in enumerate(train_loader):\n",
        "        loss = train(data, model, optimizer, sindy_va_loss)\n",
        "        pos = epoch + (1+batch_idx)/N\n",
        "    print(f\"epoch: {epoch} | loss: {loss}\")"
      ],
      "metadata": {
        "colab": {
          "base_uri": "https://localhost:8080/"
        },
        "id": "lODQwmiBJvyl",
        "outputId": "adc2ba3d-567e-4981-f314-eb7a7e220acf"
      },
      "execution_count": null,
      "outputs": [
        {
          "output_type": "stream",
          "name": "stdout",
          "text": [
            "epoch: 0 | loss: 0.42334489529403657\n",
            "epoch: 1 | loss: 0.5764073508233248\n",
            "epoch: 2 | loss: 1.2535374768779495\n",
            "epoch: 3 | loss: 2.6233611250234703\n",
            "epoch: 4 | loss: 0.28881411656849326\n",
            "epoch: 5 | loss: 1.3608457785828771\n",
            "epoch: 6 | loss: 0.2888241738172985\n",
            "epoch: 7 | loss: 0.04272168378461983\n",
            "epoch: 8 | loss: 0.26506954284401324\n",
            "epoch: 9 | loss: 0.486571699562011\n",
            "epoch: 10 | loss: 1.9710196912483586\n",
            "epoch: 11 | loss: 0.18663549608558802\n",
            "epoch: 12 | loss: 1.3258829003071002\n",
            "epoch: 13 | loss: 0.7415884059762052\n",
            "epoch: 14 | loss: 0.6772679533683428\n",
            "epoch: 15 | loss: 0.0573563657347473\n",
            "epoch: 16 | loss: 1.401236260522489\n",
            "epoch: 17 | loss: 3.2585623640179087\n",
            "epoch: 18 | loss: 0.23067133617429023\n",
            "epoch: 19 | loss: 0.4767141900783706\n",
            "epoch: 20 | loss: 0.029610550050306196\n",
            "epoch: 21 | loss: 0.3696979329589807\n",
            "epoch: 22 | loss: 0.4936251768147877\n",
            "epoch: 23 | loss: 0.11052318390609717\n",
            "epoch: 24 | loss: 0.3384873609666932\n",
            "epoch: 25 | loss: 1.6767435513346995\n",
            "epoch: 26 | loss: 0.23940322378234596\n",
            "epoch: 27 | loss: 1.8955983433435426\n",
            "epoch: 28 | loss: 1.146151205097424\n",
            "epoch: 29 | loss: 0.7686238603980862\n",
            "epoch: 30 | loss: 0.659804783656958\n",
            "epoch: 31 | loss: 0.2073987033745445\n",
            "epoch: 32 | loss: 0.835528802719131\n",
            "epoch: 33 | loss: 0.25574687851421835\n",
            "epoch: 34 | loss: 0.12539271925128587\n",
            "epoch: 35 | loss: 0.2658448419628237\n",
            "epoch: 36 | loss: 0.2349168038210109\n",
            "epoch: 37 | loss: 2.1416423607564843\n",
            "epoch: 38 | loss: 0.31441419678139054\n",
            "epoch: 39 | loss: 0.26488784868739274\n",
            "epoch: 40 | loss: 0.4018374597037008\n",
            "epoch: 41 | loss: 0.5377019977921379\n",
            "epoch: 42 | loss: 2.1766539671337855\n",
            "epoch: 43 | loss: 0.22525637371948257\n",
            "epoch: 44 | loss: 2.7766551124224343\n",
            "epoch: 45 | loss: 0.5569540980220502\n",
            "epoch: 46 | loss: 0.42865506761224137\n",
            "epoch: 47 | loss: 0.27579275702644374\n",
            "epoch: 48 | loss: 0.3183026876894067\n",
            "epoch: 49 | loss: 0.1396551066104728\n",
            "epoch: 50 | loss: 2.273389161760709\n",
            "epoch: 51 | loss: 0.5133193552301006\n",
            "epoch: 52 | loss: 0.2166951858727294\n",
            "epoch: 53 | loss: 0.1322394538745505\n",
            "epoch: 54 | loss: 0.13904906670890846\n",
            "epoch: 55 | loss: 0.3377678942651272\n",
            "epoch: 56 | loss: 0.2162917779525167\n",
            "epoch: 57 | loss: 0.06962419914129148\n",
            "epoch: 58 | loss: 0.22913821135158008\n",
            "epoch: 59 | loss: 0.4051253888730443\n",
            "epoch: 60 | loss: 0.04592995731906021\n",
            "epoch: 61 | loss: 0.3433146602580786\n",
            "epoch: 62 | loss: 0.34577605422296664\n",
            "epoch: 63 | loss: 0.12929340257386981\n",
            "epoch: 64 | loss: 0.30334813180492937\n",
            "epoch: 65 | loss: 2.9630524483745924\n",
            "epoch: 66 | loss: 1.2025784255487055\n",
            "epoch: 67 | loss: 0.06808116335369324\n",
            "epoch: 68 | loss: 0.22395962724034824\n",
            "epoch: 69 | loss: 1.1055237569774026\n",
            "epoch: 70 | loss: 0.990649906072069\n",
            "epoch: 71 | loss: 0.04612087123433202\n",
            "epoch: 72 | loss: 0.11635177719862072\n",
            "epoch: 73 | loss: 0.4193005230755683\n",
            "epoch: 74 | loss: 0.4939736289407824\n",
            "epoch: 75 | loss: 0.28050616461392547\n",
            "epoch: 76 | loss: 0.3366261076976927\n",
            "epoch: 77 | loss: 0.42406214347473764\n",
            "epoch: 78 | loss: 0.2080349134121012\n",
            "epoch: 79 | loss: 0.2744952801843118\n",
            "epoch: 80 | loss: 0.08322850401161117\n",
            "epoch: 81 | loss: 0.09698390814933724\n",
            "epoch: 82 | loss: 0.3965176626611247\n",
            "epoch: 83 | loss: 0.20008287156521154\n",
            "epoch: 84 | loss: 0.6463953348185958\n",
            "epoch: 85 | loss: 0.05916647678935705\n",
            "epoch: 86 | loss: 0.4776845251436716\n",
            "epoch: 87 | loss: 0.2586153292700162\n",
            "epoch: 88 | loss: 0.04117904593436361\n",
            "epoch: 89 | loss: 0.11888044274045932\n",
            "epoch: 90 | loss: 0.1047101459315654\n",
            "epoch: 91 | loss: 0.20485748446318017\n",
            "epoch: 92 | loss: 0.06693473870440739\n",
            "epoch: 93 | loss: 0.10957655114891618\n",
            "epoch: 94 | loss: 0.26584655838391175\n",
            "epoch: 95 | loss: 0.5141069794501577\n",
            "epoch: 96 | loss: 1.182263157767069\n",
            "epoch: 97 | loss: 0.3702845523524412\n",
            "epoch: 98 | loss: 1.2582395955157426\n",
            "epoch: 99 | loss: 0.08831055397718537\n",
            "epoch: 100 | loss: 0.6176174297882275\n",
            "epoch: 101 | loss: 0.2998345731022854\n",
            "epoch: 102 | loss: 0.21377587810456936\n",
            "epoch: 103 | loss: 0.3572054561183701\n",
            "epoch: 104 | loss: 0.24198833372994716\n",
            "epoch: 105 | loss: 0.42027273838080387\n",
            "epoch: 106 | loss: 0.15560667782018267\n",
            "epoch: 107 | loss: 0.34606011418170907\n",
            "epoch: 108 | loss: 0.1771833330569546\n",
            "epoch: 109 | loss: 0.26150186043041385\n",
            "epoch: 110 | loss: 1.7683689807487477\n",
            "epoch: 111 | loss: 0.5057665732233136\n",
            "epoch: 112 | loss: 0.05454484913080566\n",
            "epoch: 113 | loss: 0.5507722877217512\n",
            "epoch: 114 | loss: 0.09794305992621193\n",
            "epoch: 115 | loss: 2.0254763315085005\n",
            "epoch: 116 | loss: 0.3483658113394567\n",
            "epoch: 117 | loss: 2.455422355392019\n",
            "epoch: 118 | loss: 0.05172691580500475\n",
            "epoch: 119 | loss: 2.073118310699301\n",
            "epoch: 120 | loss: 2.5230386801444586\n",
            "epoch: 121 | loss: 0.21478511230522832\n",
            "epoch: 122 | loss: 0.8023417847612323\n",
            "epoch: 123 | loss: 0.36397007812889354\n",
            "epoch: 124 | loss: 0.4003853458608001\n",
            "epoch: 125 | loss: 0.4868902477199903\n",
            "epoch: 126 | loss: 0.5997006856417464\n",
            "epoch: 127 | loss: 2.4021949335710686\n",
            "epoch: 128 | loss: 0.06228399350941473\n",
            "epoch: 129 | loss: 0.35997324875764003\n",
            "epoch: 130 | loss: 0.24954278814671\n",
            "epoch: 131 | loss: 0.1572925504069499\n",
            "epoch: 132 | loss: 0.06843187501981382\n",
            "epoch: 133 | loss: 0.6400370231288222\n",
            "epoch: 134 | loss: 1.0732680247919122\n",
            "epoch: 135 | loss: 0.3920207153200921\n",
            "epoch: 136 | loss: 0.040786690621169436\n",
            "epoch: 137 | loss: 0.08604703253804667\n",
            "epoch: 138 | loss: 0.23053950002556167\n",
            "epoch: 139 | loss: 0.8741160036640998\n",
            "epoch: 140 | loss: 0.0944410642967198\n",
            "epoch: 141 | loss: 0.26618289066057366\n",
            "epoch: 142 | loss: 0.032217819721684825\n",
            "epoch: 143 | loss: 2.845787979094292\n",
            "epoch: 144 | loss: 0.03681026331452651\n",
            "epoch: 145 | loss: 0.0793621388185192\n",
            "epoch: 146 | loss: 2.325752662976173\n",
            "epoch: 147 | loss: 0.08897400664997837\n",
            "epoch: 148 | loss: 2.0125672059064943\n",
            "epoch: 149 | loss: 2.8459185757960324\n"
          ]
        }
      ]
    }
  ]
}